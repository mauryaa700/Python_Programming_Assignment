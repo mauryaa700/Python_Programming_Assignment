{
  "nbformat": 4,
  "nbformat_minor": 0,
  "metadata": {
    "colab": {
      "name": "programming_assignment_1.ipynb",
      "provenance": []
    },
    "kernelspec": {
      "name": "python3",
      "display_name": "Python 3"
    },
    "language_info": {
      "name": "python"
    }
  },
  "cells": [
    {
      "cell_type": "markdown",
      "source": [
        "###1. Write a Python program to print \"Hello Python\""
      ],
      "metadata": {
        "id": "pRTswzucvBGX"
      }
    },
    {
      "cell_type": "code",
      "execution_count": 1,
      "metadata": {
        "colab": {
          "base_uri": "https://localhost:8080/"
        },
        "id": "BUO7SEo6u9uB",
        "outputId": "466df3b3-5cc8-47f7-8594-4b73c3af4a14"
      },
      "outputs": [
        {
          "output_type": "stream",
          "name": "stdout",
          "text": [
            "hello World\n"
          ]
        }
      ],
      "source": [
        "print(\"hello World\")"
      ]
    },
    {
      "cell_type": "markdown",
      "source": [
        "###2. Write a Python program to do arithmetical operations addition and division.?"
      ],
      "metadata": {
        "id": "vlJJoLbNvxiW"
      }
    },
    {
      "cell_type": "code",
      "source": [
        "a=10\n",
        "b=20\n",
        "#addition\n",
        "output1=a+b\n",
        "output2=a/b\n",
        "print(output1)\n",
        "print(output2)"
      ],
      "metadata": {
        "colab": {
          "base_uri": "https://localhost:8080/"
        },
        "id": "bfrxvdBbv2Ij",
        "outputId": "e96bf276-bb01-413c-d371-a0c19d7fd736"
      },
      "execution_count": 2,
      "outputs": [
        {
          "output_type": "stream",
          "name": "stdout",
          "text": [
            "30\n",
            "0.5\n"
          ]
        }
      ]
    },
    {
      "cell_type": "markdown",
      "source": [
        "###3. Write a Python program to find the area of a triangle?"
      ],
      "metadata": {
        "id": "gwInX-shwSTh"
      }
    },
    {
      "cell_type": "code",
      "source": [
        "\n",
        "\n",
        "a = float(input('Enter first side: '))\n",
        "b = float(input('Enter second side: '))\n",
        "c = float(input('Enter third side: '))\n",
        "\n",
        "# calculate the semi-perimeter\n",
        "s = (a + b + c) / 2\n",
        "\n",
        "# calculate the area\n",
        "area = (s*(s-a)*(s-b)*(s-c)) ** 0.5\n",
        "print('The area of the triangle is ', area)"
      ],
      "metadata": {
        "colab": {
          "base_uri": "https://localhost:8080/"
        },
        "id": "1HThk7Z4wO1m",
        "outputId": "10b033e9-3d37-4aeb-80ee-aa776765ca2f"
      },
      "execution_count": 5,
      "outputs": [
        {
          "output_type": "stream",
          "name": "stdout",
          "text": [
            "Enter first side: 9\n",
            "Enter second side: 5\n",
            "Enter third side: 7\n",
            "The area of the triangle is  17.41228014936585\n"
          ]
        }
      ]
    },
    {
      "cell_type": "markdown",
      "source": [
        "###4. Write a Python program to swap two variables?"
      ],
      "metadata": {
        "id": "qpGnjuXEyi7A"
      }
    },
    {
      "cell_type": "code",
      "source": [
        "a=10\n",
        "b=20\n",
        "temp=a\n",
        "a=b\n",
        "b=temp\n",
        "print( \"the value of a after swapping :\", a)\n",
        "print( \"the value of b after swapping :\", a)"
      ],
      "metadata": {
        "colab": {
          "base_uri": "https://localhost:8080/"
        },
        "id": "-TYPUYtGzlpH",
        "outputId": "cbd83f86-93a7-4d99-ca0e-dd0f7461430d"
      },
      "execution_count": 6,
      "outputs": [
        {
          "output_type": "stream",
          "name": "stdout",
          "text": [
            "the value of x after swapping : 20\n"
          ]
        }
      ]
    },
    {
      "cell_type": "code",
      "source": [
        "#another way \n",
        "a=12\n",
        "b=23\n",
        "a, b = b, a\n",
        "print(\"a after swaping \\n \",  a)\n",
        "print(\"b after swaping \\n \",  b)\n"
      ],
      "metadata": {
        "colab": {
          "base_uri": "https://localhost:8080/"
        },
        "id": "jUemPYwp0D8J",
        "outputId": "f1189212-1339-4dff-a8d7-4b0835c09c89"
      },
      "execution_count": 17,
      "outputs": [
        {
          "output_type": "stream",
          "name": "stdout",
          "text": [
            "a after swaping \n",
            "  23\n",
            "b after swaping \n",
            "  12\n"
          ]
        }
      ]
    },
    {
      "cell_type": "markdown",
      "source": [
        "###5. Write a Python program to generate a random number?\n",
        "Ans: to generate random no. in python we can use random module but first we have to import random and use randint fuction to generate integer value"
      ],
      "metadata": {
        "id": "JY0bYpxf1YyD"
      }
    },
    {
      "cell_type": "code",
      "source": [
        "import random\n",
        "a=10\n",
        "b=20\n",
        "print(random.randint(a,b))\n"
      ],
      "metadata": {
        "colab": {
          "base_uri": "https://localhost:8080/"
        },
        "id": "bPoNMYHD1W6s",
        "outputId": "6a94a5a8-d9fc-4bfb-bf02-373b24eefe00"
      },
      "execution_count": 26,
      "outputs": [
        {
          "output_type": "stream",
          "name": "stdout",
          "text": [
            "17\n"
          ]
        }
      ]
    },
    {
      "cell_type": "code",
      "source": [
        ""
      ],
      "metadata": {
        "id": "KPl9xzdH2L0s"
      },
      "execution_count": 29,
      "outputs": []
    }
  ]
}