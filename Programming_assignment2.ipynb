{
  "nbformat": 4,
  "nbformat_minor": 0,
  "metadata": {
    "colab": {
      "name": "Programming_assignment2.ipynb",
      "provenance": []
    },
    "kernelspec": {
      "name": "python3",
      "display_name": "Python 3"
    },
    "language_info": {
      "name": "python"
    }
  },
  "cells": [
    {
      "cell_type": "markdown",
      "source": [
        "### 1. Write a Python program to convert kilometers to miles?\n"
      ],
      "metadata": {
        "id": "aEKbfXq62c8n"
      }
    },
    {
      "cell_type": "code",
      "source": [
        "# take inputs\n",
        "Km=float(input(\"Enter no. of km: \"))\n",
        "mile_val=0.621371\n",
        "miles=Km * mile_val\n",
        "print(f\"The conversion of Km to Miles is : {miles}\")"
      ],
      "metadata": {
        "colab": {
          "base_uri": "https://localhost:8080/"
        },
        "id": "jGRxMj303FYQ",
        "outputId": "59c30a23-03c5-4ec1-a06f-8cbebcf02022"
      },
      "execution_count": 5,
      "outputs": [
        {
          "output_type": "stream",
          "name": "stdout",
          "text": [
            "Enter no. of km: 10\n",
            "The conversion of Km to Miles is : 6.21371\n"
          ]
        }
      ]
    },
    {
      "cell_type": "markdown",
      "source": [
        "### 2. Write a Python program to convert Celsius to Fahrenheit?"
      ],
      "metadata": {
        "id": "-vPQAwNR4WlT"
      }
    },
    {
      "cell_type": "code",
      "source": [
        "# take inputs\n",
        "celsius =float(input(\"Enter value of celsius: \")) \n",
        "\n",
        "fahrenheit = (celsius * 1.8) + 32\n",
        "print(f\"the concersion of cel to f is : {fahrenheit}\")"
      ],
      "metadata": {
        "colab": {
          "base_uri": "https://localhost:8080/"
        },
        "id": "52Vl_9SI4YL1",
        "outputId": "85179666-de00-4d0c-b0f5-0ca8b56f5b8f"
      },
      "execution_count": 6,
      "outputs": [
        {
          "output_type": "stream",
          "name": "stdout",
          "text": [
            "Enter value of celsius: 32\n",
            "the concersion of cel to f is : 89.6\n"
          ]
        }
      ]
    },
    {
      "cell_type": "markdown",
      "source": [
        "### 3. Write a Python program to display calendar?"
      ],
      "metadata": {
        "id": "h_xIMZqn5XU2"
      }
    },
    {
      "cell_type": "code",
      "source": [
        "#import calender module\n",
        "import calendar\n",
        "# take inputs\n",
        "year=int(input(\"enter year: \"))\n",
        "Month=int(input(\"enter month: \"))\n",
        "\n",
        "print(calendar.month(year, Month))"
      ],
      "metadata": {
        "colab": {
          "base_uri": "https://localhost:8080/"
        },
        "id": "htpAUfBX5k-h",
        "outputId": "c2a989b4-ed5a-4f6f-8556-b253436340e3"
      },
      "execution_count": 10,
      "outputs": [
        {
          "output_type": "stream",
          "name": "stdout",
          "text": [
            "enter year: 2022\n",
            "enter month: 7\n",
            "     July 2022\n",
            "Mo Tu We Th Fr Sa Su\n",
            "             1  2  3\n",
            " 4  5  6  7  8  9 10\n",
            "11 12 13 14 15 16 17\n",
            "18 19 20 21 22 23 24\n",
            "25 26 27 28 29 30 31\n",
            "\n"
          ]
        }
      ]
    },
    {
      "cell_type": "markdown",
      "source": [
        "### 4. Write a Python program to solve quadratic equation?\n"
      ],
      "metadata": {
        "id": "FDr8-jeg6y61"
      }
    },
    {
      "cell_type": "code",
      "source": [
        "#importing math-module\n",
        "import cmath  \n",
        "# take inputs\n",
        "a = int(input('Enter the value of a: '))\n",
        "b = int(input('Enter the value of b: '))\n",
        "c = int(input('Enter the value of c: '))\n",
        "\n",
        "# calculate discriminant\n",
        "disc = (b**2) - (4*a*c)\n",
        "\n",
        "# find two solutions\n",
        "res1 = (-b-cmath.sqrt(disc))/(2*a)\n",
        "res2 = (-b+cmath.sqrt(disc))/(2*a)\n",
        "print('The solution are {0} and {1}'.format(res1,res2))\n"
      ],
      "metadata": {
        "colab": {
          "base_uri": "https://localhost:8080/"
        },
        "id": "nGlS8eLg65GD",
        "outputId": "10bab54e-000e-429c-e713-429e7d1d9637"
      },
      "execution_count": 19,
      "outputs": [
        {
          "output_type": "stream",
          "name": "stdout",
          "text": [
            "Enter the value of a: 6\n",
            "Enter the value of b: 7\n",
            "Enter the value of c: 7\n",
            "The solution are (-0.5833333333333334-0.9090593428863095j) and (-0.5833333333333334+0.9090593428863095j)\n"
          ]
        }
      ]
    },
    {
      "cell_type": "markdown",
      "source": [
        "### 5. Write a Python program to swap two variables without temp variable?"
      ],
      "metadata": {
        "id": "xnjDIEj5AMtN"
      }
    },
    {
      "cell_type": "code",
      "source": [
        "x=10\n",
        "y=20\n",
        "x, y= y, x\n",
        "print(f\"value of x is : {x}\")\n",
        "print(f\"value of y is : {y}\")"
      ],
      "metadata": {
        "colab": {
          "base_uri": "https://localhost:8080/"
        },
        "id": "2llYud1oCeko",
        "outputId": "39508515-a491-4d30-835f-29987810774c"
      },
      "execution_count": 21,
      "outputs": [
        {
          "output_type": "stream",
          "name": "stdout",
          "text": [
            "value of x is : 20\n",
            "value of y is : 10\n"
          ]
        }
      ]
    }
  ]
}